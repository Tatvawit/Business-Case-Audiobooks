{
 "cells": [
  {
   "cell_type": "markdown",
   "id": "b31db6bb",
   "metadata": {
    "papermill": {
     "duration": 0.01542,
     "end_time": "2022-04-11T01:48:15.132538",
     "exception": false,
     "start_time": "2022-04-11T01:48:15.117118",
     "status": "completed"
    },
    "tags": []
   },
   "source": [
    "# **Import the relevant libraries :**"
   ]
  },
  {
   "cell_type": "code",
   "execution_count": 1,
   "id": "5418258a",
   "metadata": {
    "execution": {
     "iopub.execute_input": "2022-04-11T01:48:15.167760Z",
     "iopub.status.busy": "2022-04-11T01:48:15.165988Z",
     "iopub.status.idle": "2022-04-11T01:48:21.265854Z",
     "shell.execute_reply": "2022-04-11T01:48:21.265208Z",
     "shell.execute_reply.started": "2022-04-11T01:46:07.770906Z"
    },
    "papermill": {
     "duration": 6.117365,
     "end_time": "2022-04-11T01:48:21.266019",
     "exception": false,
     "start_time": "2022-04-11T01:48:15.148654",
     "status": "completed"
    },
    "tags": []
   },
   "outputs": [],
   "source": [
    "import numpy as np\n",
    "from sklearn import preprocessing\n",
    "import tensorflow as tf"
   ]
  },
  {
   "cell_type": "markdown",
   "id": "33643506",
   "metadata": {
    "papermill": {
     "duration": 0.013107,
     "end_time": "2022-04-11T01:48:21.292634",
     "exception": false,
     "start_time": "2022-04-11T01:48:21.279527",
     "status": "completed"
    },
    "tags": []
   },
   "source": [
    "# **Extract the data from the csv :**"
   ]
  },
  {
   "cell_type": "code",
   "execution_count": 2,
   "id": "282190b5",
   "metadata": {
    "execution": {
     "iopub.execute_input": "2022-04-11T01:48:21.324545Z",
     "iopub.status.busy": "2022-04-11T01:48:21.323954Z",
     "iopub.status.idle": "2022-04-11T01:48:21.493557Z",
     "shell.execute_reply": "2022-04-11T01:48:21.494049Z",
     "shell.execute_reply.started": "2022-04-11T01:46:07.798603Z"
    },
    "papermill": {
     "duration": 0.188209,
     "end_time": "2022-04-11T01:48:21.494236",
     "exception": false,
     "start_time": "2022-04-11T01:48:21.306027",
     "status": "completed"
    },
    "tags": []
   },
   "outputs": [],
   "source": [
    "raw_csv_data = np.loadtxt('../input/audiobook/Audiobooks_data.csv', delimiter = ',')\n",
    "\n",
    "unscaled_inputs_all = raw_csv_data[:,1:-1]\n",
    "targets_all = raw_csv_data[:,-1]"
   ]
  },
  {
   "cell_type": "markdown",
   "id": "7ef509dc",
   "metadata": {
    "papermill": {
     "duration": 0.013336,
     "end_time": "2022-04-11T01:48:21.521731",
     "exception": false,
     "start_time": "2022-04-11T01:48:21.508395",
     "status": "completed"
    },
    "tags": []
   },
   "source": [
    "# **Balancing the dataset :**"
   ]
  },
  {
   "cell_type": "code",
   "execution_count": 3,
   "id": "e0e2e321",
   "metadata": {
    "execution": {
     "iopub.execute_input": "2022-04-11T01:48:21.553789Z",
     "iopub.status.busy": "2022-04-11T01:48:21.553154Z",
     "iopub.status.idle": "2022-04-11T01:48:21.564561Z",
     "shell.execute_reply": "2022-04-11T01:48:21.565090Z",
     "shell.execute_reply.started": "2022-04-11T01:46:08.035048Z"
    },
    "papermill": {
     "duration": 0.030184,
     "end_time": "2022-04-11T01:48:21.565288",
     "exception": false,
     "start_time": "2022-04-11T01:48:21.535104",
     "status": "completed"
    },
    "tags": []
   },
   "outputs": [],
   "source": [
    "num_one_targets = int(np.sum(targets_all))\n",
    "zero_targets_count = 0\n",
    "indices_to_remove = []\n",
    "\n",
    "for i in range(targets_all.shape[0]):\n",
    "    if targets_all[i] == 0:\n",
    "        zero_targets_count += 1\n",
    "        if zero_targets_count > num_one_targets :\n",
    "            indices_to_remove.append(i)\n",
    "          "
   ]
  },
  {
   "cell_type": "code",
   "execution_count": 4,
   "id": "b8746d62",
   "metadata": {
    "execution": {
     "iopub.execute_input": "2022-04-11T01:48:21.596142Z",
     "iopub.status.busy": "2022-04-11T01:48:21.595456Z",
     "iopub.status.idle": "2022-04-11T01:48:21.601301Z",
     "shell.execute_reply": "2022-04-11T01:48:21.601800Z",
     "shell.execute_reply.started": "2022-04-11T01:46:08.058930Z"
    },
    "papermill": {
     "duration": 0.023195,
     "end_time": "2022-04-11T01:48:21.601984",
     "exception": false,
     "start_time": "2022-04-11T01:48:21.578789",
     "status": "completed"
    },
    "tags": []
   },
   "outputs": [],
   "source": [
    "unscaled_inputs_equal_priors = np.delete(unscaled_inputs_all,indices_to_remove,axis = 0)\n",
    "\n",
    "targets_equal_priors = np.delete(targets_all,indices_to_remove,axis = 0)\n"
   ]
  },
  {
   "cell_type": "markdown",
   "id": "56fb429f",
   "metadata": {
    "papermill": {
     "duration": 0.013553,
     "end_time": "2022-04-11T01:48:21.629088",
     "exception": false,
     "start_time": "2022-04-11T01:48:21.615535",
     "status": "completed"
    },
    "tags": []
   },
   "source": [
    "# **Standardizing the inputs :**"
   ]
  },
  {
   "cell_type": "code",
   "execution_count": 5,
   "id": "a4f03c96",
   "metadata": {
    "execution": {
     "iopub.execute_input": "2022-04-11T01:48:21.661609Z",
     "iopub.status.busy": "2022-04-11T01:48:21.660996Z",
     "iopub.status.idle": "2022-04-11T01:48:21.669514Z",
     "shell.execute_reply": "2022-04-11T01:48:21.669986Z",
     "shell.execute_reply.started": "2022-04-11T01:46:08.070359Z"
    },
    "papermill": {
     "duration": 0.025499,
     "end_time": "2022-04-11T01:48:21.670165",
     "exception": false,
     "start_time": "2022-04-11T01:48:21.644666",
     "status": "completed"
    },
    "tags": []
   },
   "outputs": [],
   "source": [
    "scaled_inputs = preprocessing.scale(unscaled_inputs_equal_priors)"
   ]
  },
  {
   "cell_type": "markdown",
   "id": "ac07ca12",
   "metadata": {
    "papermill": {
     "duration": 0.014369,
     "end_time": "2022-04-11T01:48:21.698188",
     "exception": false,
     "start_time": "2022-04-11T01:48:21.683819",
     "status": "completed"
    },
    "tags": []
   },
   "source": [
    "# **Shuffle the data :**"
   ]
  },
  {
   "cell_type": "code",
   "execution_count": 6,
   "id": "bfc717cf",
   "metadata": {
    "execution": {
     "iopub.execute_input": "2022-04-11T01:48:21.732630Z",
     "iopub.status.busy": "2022-04-11T01:48:21.731938Z",
     "iopub.status.idle": "2022-04-11T01:48:21.736233Z",
     "shell.execute_reply": "2022-04-11T01:48:21.736920Z",
     "shell.execute_reply.started": "2022-04-11T01:46:08.083929Z"
    },
    "papermill": {
     "duration": 0.024509,
     "end_time": "2022-04-11T01:48:21.737137",
     "exception": false,
     "start_time": "2022-04-11T01:48:21.712628",
     "status": "completed"
    },
    "tags": []
   },
   "outputs": [],
   "source": [
    "shuffled_indices = np.arange(scaled_inputs.shape[0])\n",
    "np.random.shuffle(shuffled_indices)\n",
    "\n",
    "shuffled_inputs = scaled_inputs[shuffled_indices]\n",
    "\n",
    "shuffled_targets = targets_equal_priors[shuffled_indices]"
   ]
  },
  {
   "cell_type": "markdown",
   "id": "8993e5a7",
   "metadata": {
    "papermill": {
     "duration": 0.013294,
     "end_time": "2022-04-11T01:48:21.766081",
     "exception": false,
     "start_time": "2022-04-11T01:48:21.752787",
     "status": "completed"
    },
    "tags": []
   },
   "source": [
    "# **Split the dataset into training , validation and testing dataset :**"
   ]
  },
  {
   "cell_type": "code",
   "execution_count": 7,
   "id": "e82c4212",
   "metadata": {
    "execution": {
     "iopub.execute_input": "2022-04-11T01:48:21.797994Z",
     "iopub.status.busy": "2022-04-11T01:48:21.797284Z",
     "iopub.status.idle": "2022-04-11T01:48:21.806602Z",
     "shell.execute_reply": "2022-04-11T01:48:21.807306Z",
     "shell.execute_reply.started": "2022-04-11T01:46:08.093972Z"
    },
    "papermill": {
     "duration": 0.02758,
     "end_time": "2022-04-11T01:48:21.807543",
     "exception": false,
     "start_time": "2022-04-11T01:48:21.779963",
     "status": "completed"
    },
    "tags": []
   },
   "outputs": [
    {
     "name": "stdout",
     "output_type": "stream",
     "text": [
      "1799.0 3579 0.5026543727298128\n",
      "205.0 447 0.45861297539149887\n",
      "233.0 448 0.5200892857142857\n"
     ]
    }
   ],
   "source": [
    "sample_count = shuffled_inputs.shape[0]\n",
    "train_sample_count = int(0.8 * sample_count)\n",
    "validation_sample_count = int(0.1 * sample_count)\n",
    "test_sample_count = sample_count - train_sample_count - validation_sample_count\n",
    "\n",
    "train_inputs = shuffled_inputs[:train_sample_count]\n",
    "train_targets = shuffled_targets[:train_sample_count]\n",
    "\n",
    "validation_inputs = shuffled_inputs[train_sample_count:train_sample_count + validation_sample_count]\n",
    "validation_targets = shuffled_targets[train_sample_count:train_sample_count + validation_sample_count]\n",
    "\n",
    "test_inputs = shuffled_inputs[train_sample_count + validation_sample_count:]\n",
    "test_targets = shuffled_targets[train_sample_count + validation_sample_count:]\n",
    "\n",
    "print(np.sum(train_targets),train_sample_count,np.sum(train_targets)/train_sample_count)\n",
    "print(np.sum(validation_targets),validation_sample_count, np.sum(validation_targets)/validation_sample_count)\n",
    "print(np.sum(test_targets),test_sample_count, np.sum(test_targets)/test_sample_count)"
   ]
  },
  {
   "cell_type": "markdown",
   "id": "876d28a2",
   "metadata": {
    "papermill": {
     "duration": 0.013552,
     "end_time": "2022-04-11T01:48:21.836694",
     "exception": false,
     "start_time": "2022-04-11T01:48:21.823142",
     "status": "completed"
    },
    "tags": []
   },
   "source": [
    "# **Save the three datasets in *.npz format :**"
   ]
  },
  {
   "cell_type": "code",
   "execution_count": 8,
   "id": "036cd2bf",
   "metadata": {
    "execution": {
     "iopub.execute_input": "2022-04-11T01:48:21.870338Z",
     "iopub.status.busy": "2022-04-11T01:48:21.869739Z",
     "iopub.status.idle": "2022-04-11T01:48:21.879542Z",
     "shell.execute_reply": "2022-04-11T01:48:21.878985Z",
     "shell.execute_reply.started": "2022-04-11T01:46:08.110421Z"
    },
    "papermill": {
     "duration": 0.027511,
     "end_time": "2022-04-11T01:48:21.879705",
     "exception": false,
     "start_time": "2022-04-11T01:48:21.852194",
     "status": "completed"
    },
    "tags": []
   },
   "outputs": [],
   "source": [
    "np.savez('Audiobooks_data_train',inputs = train_inputs, targets = train_targets)\n",
    "np.savez('Audiobooks_data_validation',inputs = validation_inputs, targets = validation_targets)\n",
    "np.savez('Audiobooks_data_test',inputs = test_inputs, targets = test_targets)"
   ]
  },
  {
   "cell_type": "markdown",
   "id": "465ed416",
   "metadata": {
    "papermill": {
     "duration": 0.013612,
     "end_time": "2022-04-11T01:48:21.908763",
     "exception": false,
     "start_time": "2022-04-11T01:48:21.895151",
     "status": "completed"
    },
    "tags": []
   },
   "source": [
    "# **Loading the *.npz format dataset :**"
   ]
  },
  {
   "cell_type": "code",
   "execution_count": 9,
   "id": "40c8984d",
   "metadata": {
    "execution": {
     "iopub.execute_input": "2022-04-11T01:48:21.940795Z",
     "iopub.status.busy": "2022-04-11T01:48:21.939908Z",
     "iopub.status.idle": "2022-04-11T01:48:21.955247Z",
     "shell.execute_reply": "2022-04-11T01:48:21.956334Z",
     "shell.execute_reply.started": "2022-04-11T01:46:08.129016Z"
    },
    "papermill": {
     "duration": 0.033712,
     "end_time": "2022-04-11T01:48:21.956640",
     "exception": false,
     "start_time": "2022-04-11T01:48:21.922928",
     "status": "completed"
    },
    "tags": []
   },
   "outputs": [
    {
     "name": "stderr",
     "output_type": "stream",
     "text": [
      "/opt/conda/lib/python3.7/site-packages/ipykernel_launcher.py:2: DeprecationWarning: `np.float` is a deprecated alias for the builtin `float`. To silence this warning, use `float` by itself. Doing this will not modify any behavior and is safe. If you specifically wanted the numpy scalar type, use `np.float64` here.\n",
      "Deprecated in NumPy 1.20; for more details and guidance: https://numpy.org/devdocs/release/1.20.0-notes.html#deprecations\n",
      "  \n",
      "/opt/conda/lib/python3.7/site-packages/ipykernel_launcher.py:3: DeprecationWarning: `np.int` is a deprecated alias for the builtin `int`. To silence this warning, use `int` by itself. Doing this will not modify any behavior and is safe. When replacing `np.int`, you may wish to use e.g. `np.int64` or `np.int32` to specify the precision. If you wish to review your current use, check the release note link for additional information.\n",
      "Deprecated in NumPy 1.20; for more details and guidance: https://numpy.org/devdocs/release/1.20.0-notes.html#deprecations\n",
      "  This is separate from the ipykernel package so we can avoid doing imports until\n",
      "/opt/conda/lib/python3.7/site-packages/ipykernel_launcher.py:6: DeprecationWarning: `np.float` is a deprecated alias for the builtin `float`. To silence this warning, use `float` by itself. Doing this will not modify any behavior and is safe. If you specifically wanted the numpy scalar type, use `np.float64` here.\n",
      "Deprecated in NumPy 1.20; for more details and guidance: https://numpy.org/devdocs/release/1.20.0-notes.html#deprecations\n",
      "  \n",
      "/opt/conda/lib/python3.7/site-packages/ipykernel_launcher.py:7: DeprecationWarning: `np.int` is a deprecated alias for the builtin `int`. To silence this warning, use `int` by itself. Doing this will not modify any behavior and is safe. When replacing `np.int`, you may wish to use e.g. `np.int64` or `np.int32` to specify the precision. If you wish to review your current use, check the release note link for additional information.\n",
      "Deprecated in NumPy 1.20; for more details and guidance: https://numpy.org/devdocs/release/1.20.0-notes.html#deprecations\n",
      "  import sys\n",
      "/opt/conda/lib/python3.7/site-packages/ipykernel_launcher.py:10: DeprecationWarning: `np.float` is a deprecated alias for the builtin `float`. To silence this warning, use `float` by itself. Doing this will not modify any behavior and is safe. If you specifically wanted the numpy scalar type, use `np.float64` here.\n",
      "Deprecated in NumPy 1.20; for more details and guidance: https://numpy.org/devdocs/release/1.20.0-notes.html#deprecations\n",
      "  # Remove the CWD from sys.path while we load stuff.\n",
      "/opt/conda/lib/python3.7/site-packages/ipykernel_launcher.py:11: DeprecationWarning: `np.int` is a deprecated alias for the builtin `int`. To silence this warning, use `int` by itself. Doing this will not modify any behavior and is safe. When replacing `np.int`, you may wish to use e.g. `np.int64` or `np.int32` to specify the precision. If you wish to review your current use, check the release note link for additional information.\n",
      "Deprecated in NumPy 1.20; for more details and guidance: https://numpy.org/devdocs/release/1.20.0-notes.html#deprecations\n",
      "  # This is added back by InteractiveShellApp.init_path()\n"
     ]
    }
   ],
   "source": [
    "npz = np.load('Audiobooks_data_train.npz')\n",
    "train_inputs = npz['inputs'].astype(np.float)\n",
    "train_targets = npz['targets'].astype(np.int)\n",
    "\n",
    "npz = np.load('Audiobooks_data_validation.npz')\n",
    "validation_inputs = npz['inputs'].astype(np.float)\n",
    "validation_targets = npz['targets'].astype(np.int)\n",
    "\n",
    "npz = np.load('Audiobooks_data_test.npz')\n",
    "test_inputs = npz['inputs'].astype(np.float)\n",
    "test_targets = npz['targets'].astype(np.int)"
   ]
  },
  {
   "cell_type": "markdown",
   "id": "53edb1c4",
   "metadata": {
    "papermill": {
     "duration": 0.013782,
     "end_time": "2022-04-11T01:48:21.986564",
     "exception": false,
     "start_time": "2022-04-11T01:48:21.972782",
     "status": "completed"
    },
    "tags": []
   },
   "source": [
    "# **Model :**"
   ]
  },
  {
   "cell_type": "code",
   "execution_count": 10,
   "id": "b190ea67",
   "metadata": {
    "execution": {
     "iopub.execute_input": "2022-04-11T01:48:22.020000Z",
     "iopub.status.busy": "2022-04-11T01:48:22.019047Z",
     "iopub.status.idle": "2022-04-11T01:48:25.356249Z",
     "shell.execute_reply": "2022-04-11T01:48:25.355685Z",
     "shell.execute_reply.started": "2022-04-11T01:46:08.146712Z"
    },
    "papermill": {
     "duration": 3.355036,
     "end_time": "2022-04-11T01:48:25.356396",
     "exception": false,
     "start_time": "2022-04-11T01:48:22.001360",
     "status": "completed"
    },
    "tags": []
   },
   "outputs": [
    {
     "name": "stderr",
     "output_type": "stream",
     "text": [
      "2022-04-11 01:48:23.205054: I tensorflow/core/common_runtime/process_util.cc:146] Creating new thread pool with default inter op setting: 2. Tune using inter_op_parallelism_threads for best performance.\n",
      "2022-04-11 01:48:23.334553: I tensorflow/compiler/mlir/mlir_graph_optimization_pass.cc:185] None of the MLIR Optimization Passes are enabled (registered 2)\n"
     ]
    },
    {
     "name": "stdout",
     "output_type": "stream",
     "text": [
      "Epoch 1/100\n",
      "36/36 - 1s - loss: 0.5595 - accuracy: 0.6913 - val_loss: 0.4612 - val_accuracy: 0.7472\n",
      "Epoch 2/100\n",
      "36/36 - 0s - loss: 0.4261 - accuracy: 0.7809 - val_loss: 0.3957 - val_accuracy: 0.8412\n",
      "Epoch 3/100\n",
      "36/36 - 0s - loss: 0.3871 - accuracy: 0.7860 - val_loss: 0.3679 - val_accuracy: 0.8412\n",
      "Epoch 4/100\n",
      "36/36 - 0s - loss: 0.3688 - accuracy: 0.7974 - val_loss: 0.3391 - val_accuracy: 0.8456\n",
      "Epoch 5/100\n",
      "36/36 - 0s - loss: 0.3609 - accuracy: 0.8033 - val_loss: 0.3309 - val_accuracy: 0.8456\n",
      "Epoch 6/100\n",
      "36/36 - 0s - loss: 0.3500 - accuracy: 0.8106 - val_loss: 0.3348 - val_accuracy: 0.8345\n",
      "Epoch 7/100\n",
      "36/36 - 0s - loss: 0.3494 - accuracy: 0.8047 - val_loss: 0.3433 - val_accuracy: 0.8143\n"
     ]
    },
    {
     "data": {
      "text/plain": [
       "<keras.callbacks.History at 0x7f85be78af50>"
      ]
     },
     "execution_count": 10,
     "metadata": {},
     "output_type": "execute_result"
    }
   ],
   "source": [
    "input_size = 10\n",
    "output_size = 2\n",
    "hidden_layer = 100\n",
    "\n",
    "model = tf.keras.Sequential([\n",
    "    tf.keras.layers.Dense(hidden_layer, activation = 'relu'),\n",
    "    tf.keras.layers.Dense(hidden_layer, activation = 'relu'),\n",
    "    tf.keras.layers.Dense(output_size,activation = 'softmax')\n",
    "    ])\n",
    "\n",
    "model.compile(optimizer = 'adam',\n",
    "              loss='sparse_categorical_crossentropy',\n",
    "              metrics = ['accuracy']\n",
    "              )\n",
    "\n",
    "batch_size = 100\n",
    "\n",
    "max_epochs = 100\n",
    "\n",
    "early_stopping = tf.keras.callbacks.EarlyStopping(patience = 2)\n",
    "\n",
    "model.fit(train_inputs,\n",
    "          train_targets,\n",
    "          batch_size = batch_size,\n",
    "          epochs = max_epochs,\n",
    "          callbacks = early_stopping,\n",
    "          validation_data = (validation_inputs,validation_targets),\n",
    "          verbose = 2)"
   ]
  },
  {
   "cell_type": "markdown",
   "id": "d408da44",
   "metadata": {
    "papermill": {
     "duration": 0.019579,
     "end_time": "2022-04-11T01:48:25.397986",
     "exception": false,
     "start_time": "2022-04-11T01:48:25.378407",
     "status": "completed"
    },
    "tags": []
   },
   "source": [
    "# **Test the model :**"
   ]
  },
  {
   "cell_type": "code",
   "execution_count": 11,
   "id": "45765cb3",
   "metadata": {
    "execution": {
     "iopub.execute_input": "2022-04-11T01:48:25.440017Z",
     "iopub.status.busy": "2022-04-11T01:48:25.439283Z",
     "iopub.status.idle": "2022-04-11T01:48:25.672637Z",
     "shell.execute_reply": "2022-04-11T01:48:25.673118Z",
     "shell.execute_reply.started": "2022-04-11T01:46:10.741829Z"
    },
    "papermill": {
     "duration": 0.256967,
     "end_time": "2022-04-11T01:48:25.673540",
     "exception": false,
     "start_time": "2022-04-11T01:48:25.416573",
     "status": "completed"
    },
    "tags": []
   },
   "outputs": [
    {
     "name": "stdout",
     "output_type": "stream",
     "text": [
      "14/14 [==============================] - 0s 2ms/step - loss: 0.3790 - accuracy: 0.8103\n",
      "\n",
      "Test loss : 0.38. Test accuracy : 81.03%\n"
     ]
    }
   ],
   "source": [
    "test_loss,test_accuracy = model.evaluate(test_inputs,test_targets)\n",
    "\n",
    "print('\\nTest loss : {0:.2f}. Test accuracy : {1:.2f}%' . format(test_loss,test_accuracy * 100))"
   ]
  }
 ],
 "metadata": {
  "kernelspec": {
   "display_name": "Python 3",
   "language": "python",
   "name": "python3"
  },
  "language_info": {
   "codemirror_mode": {
    "name": "ipython",
    "version": 3
   },
   "file_extension": ".py",
   "mimetype": "text/x-python",
   "name": "python",
   "nbconvert_exporter": "python",
   "pygments_lexer": "ipython3",
   "version": "3.7.12"
  },
  "papermill": {
   "default_parameters": {},
   "duration": 23.502162,
   "end_time": "2022-04-11T01:48:28.733121",
   "environment_variables": {},
   "exception": null,
   "input_path": "__notebook__.ipynb",
   "output_path": "__notebook__.ipynb",
   "parameters": {},
   "start_time": "2022-04-11T01:48:05.230959",
   "version": "2.3.3"
  }
 },
 "nbformat": 4,
 "nbformat_minor": 5
}
